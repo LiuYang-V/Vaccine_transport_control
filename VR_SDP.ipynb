{
 "cells": [
  {
   "cell_type": "markdown",
   "id": "42573bc7-fbb1-4a70-a6b8-a544e2e7e57c",
   "metadata": {
    "tags": []
   },
   "source": [
    "# Optimal $\\delta$, $\\beta$ separatly and together"
   ]
  },
  {
   "cell_type": "markdown",
   "id": "11bd13f3-9c4c-4106-8472-689de4d5e1c4",
   "metadata": {
    "tags": []
   },
   "source": [
    "### Algorithm:\n",
    "1. initial guess of the vaccination rate;\n",
    "2. slove the state system with the initial vaccination rate;\n",
    "3. obtain the vaccination rate with the solution of step 2;\n",
    "4. obtian the total cost;\n",
    "5. repeat step 2, 3 and 4 until the total cost can converge. "
   ]
  },
  {
   "cell_type": "markdown",
   "id": "5d060cf1-87f9-40a3-a94c-3c01daf0e796",
   "metadata": {
    "tags": []
   },
   "source": [
    "#### Solution of the state system\n",
    "##### input:\n",
    "1. vaccination rate;\n",
    "2. Metapopulation information: population, contact rate, etc.;\n",
    "3. transportation data;\n",
    "4. epidemical model and data. \n",
    "##### output:\n",
    "1. epidemical data;\n",
    "2. $\\lambda_j^S$ and $\\lambda_j^V$."
   ]
  },
  {
   "cell_type": "markdown",
   "id": "5e7b40e6-e261-458f-b8de-ccddac56ac1f",
   "metadata": {
    "tags": []
   },
   "source": [
    "#### Solution of the adjoint system\n",
    "##### input:\n",
    "1. output of the state system solution;\n",
    "2. $\\mu_{S,j}(T)=\\mu_{V,j}(T)=\\mu_{L,j}(T)=\\mu_{I,j}(T)=\\mu_{R,j}(T)=0$.\n",
    "##### output:\n",
    "1. adjusted vaccination rate $\\beta^*$ and transport rate $\\delta^*$;\n",
    "2. total cost."
   ]
  },
  {
   "cell_type": "code",
   "execution_count": 1,
   "id": "a2c6258b-ae46-4305-b9d1-d5f2c8d6beaa",
   "metadata": {},
   "outputs": [],
   "source": [
    "import pandas as pd\n",
    "import numpy as np\n",
    "import csv\n",
    "from matplotlib import pyplot as plt\n",
    "import time\n",
    "import pickle\n",
    "%load_ext autoreload\n",
    "%autoreload 2\n"
   ]
  },
  {
   "cell_type": "markdown",
   "id": "9b803f50-22ec-4417-b73e-9e87d3ebbb0c",
   "metadata": {
    "tags": []
   },
   "source": [
    "### Load Data"
   ]
  },
  {
   "cell_type": "code",
   "execution_count": 2,
   "id": "eed5a2bf-b95b-4861-84ad-1a7e1f0b886e",
   "metadata": {},
   "outputs": [],
   "source": [
    "commute_path = 'V_data/Commute.csv'\n",
    "covid_path = 'V_data/Covid.csv'\n",
    "travel_path = 'V_data/Transport_data.csv'\n",
    "kpa_path = 'V_data/Kpa_rate.csv'\n",
    "#bed_path = '/Users/liuyang/Data/Input_data3/region_bed_count.csv'"
   ]
  },
  {
   "cell_type": "code",
   "execution_count": 3,
   "id": "d0bf903f-0238-4cf0-9ee6-b08434ce4bb4",
   "metadata": {},
   "outputs": [],
   "source": [
    "name_path = 'V_data/Region_code.csv'\n",
    "name = {} #the dict to store travel data {(date, dep, arr): passenger count}\n",
    "with open(name_path, newline='') as name_f:\n",
    "    name_reader = csv.reader(name_f, delimiter= ' ', quotechar='|')\n",
    "    next(name_reader, None)\n",
    "    for row in name_reader:\n",
    "        #print(row)\n",
    "        (code, reg)=row[0].split(',')\n",
    "        #print(dep, arr)\n",
    "        name[int(code) ] = reg"
   ]
  },
  {
   "cell_type": "code",
   "execution_count": 4,
   "id": "005d46e6-cb2d-4a6a-8a9c-ef7ef26aae6c",
   "metadata": {},
   "outputs": [],
   "source": [
    "sigma = {} #the dict to store the commuting rate data, {(residence, work): commute rate}\n",
    "with open(commute_path, newline='') as com_f:\n",
    "    com_reader = csv.reader(com_f, delimiter= ' ', quotechar='|')\n",
    "    next(com_reader, None)\n",
    "    for row in com_reader:\n",
    "        (res, wor, rate)=row[0].split(',')\n",
    "        sigma[(int(res), int(wor))] = float(rate)\n",
    "for i in sigma:\n",
    "    if i[0]==i[1]:\n",
    "        sigma[i]=0"
   ]
  },
  {
   "cell_type": "code",
   "execution_count": 5,
   "id": "a90c47bc-0047-460b-b4bc-bf1d8abc0264",
   "metadata": {},
   "outputs": [],
   "source": [
    "N_p = {} #the dict to store population data {area code: population}\n",
    "N_0 = {}  # the dict to store the initial health state data {area code: [S,V, L, I_a, I_t, I_nt, R]}\n",
    "with open(covid_path, newline='') as covid_f:\n",
    "    covid_reader = csv.reader(covid_f, delimiter= ' ', quotechar='|')\n",
    "    next(covid_reader, None)\n",
    "    for row in covid_reader:\n",
    "        (code, t_pop, S, V, L, I, R)=row[0].split(',')\n",
    "        N_p[int(code)] = int(t_pop)\n",
    "        N_0[int(code)]= [float(S),float(V), float(L),float(I),float(R)]"
   ]
  },
  {
   "cell_type": "code",
   "execution_count": 6,
   "id": "e92846fc-d69b-49aa-9656-0e3cef7fe1dc",
   "metadata": {},
   "outputs": [],
   "source": [
    "X = {} #the dict to store travel data {(date, dep, arr): passenger count}\n",
    "with open(travel_path, newline='') as travel_f:\n",
    "    travel_reader = csv.reader(travel_f, delimiter= ' ', quotechar='|')\n",
    "    next(travel_reader, None)\n",
    "    for row in travel_reader:\n",
    "        (dep, arr, pcnt)=row[0].split(',')\n",
    "        #print(dep, arr)\n",
    "        X[(int(dep), int(arr))] = float(pcnt)*1000/365"
   ]
  },
  {
   "cell_type": "code",
   "execution_count": 7,
   "id": "e059ec39-ed47-4fb4-8e8e-210cb323885b",
   "metadata": {},
   "outputs": [],
   "source": [
    "kpa = {} # the dict to store the infection rate for different areas {area code: infection rate}\n",
    "with open(kpa_path, newline='') as kpa_f:\n",
    "    kpa_reader = csv.reader(kpa_f, delimiter= ' ', quotechar='|')\n",
    "    next(kpa_reader, None)\n",
    "    for row in kpa_reader:\n",
    "        (code, kpa_j)=row[0].split(',')\n",
    "        kpa[int(code)] = float(kpa_j)"
   ]
  },
  {
   "cell_type": "code",
   "execution_count": 8,
   "id": "8621aa13-f78e-489c-899d-f2737fe8ba40",
   "metadata": {},
   "outputs": [],
   "source": [
    "vac_cnt_path = 'V_data/Vaccine_cnt.csv'\n",
    "\n",
    "Vac_cnt = {} #the dict to store the real covid data, the active infective is a sum of 7 day increase\n",
    "with open(vac_cnt_path, newline='') as vac_cnt_f:\n",
    "    vac_cnt_reader = csv.reader(vac_cnt_f, delimiter= ' ', quotechar='|')\n",
    "    next(vac_cnt_reader, None)\n",
    "    for row in vac_cnt_reader:\n",
    "        list_vc=row[0].split(',')\n",
    "        Vac_cnt[int(list_vc[0])] = [int(n)/7 for n in list_vc[1:]]"
   ]
  },
  {
   "cell_type": "code",
   "execution_count": 9,
   "id": "7d6cb619-dcaa-4fde-a4e9-d41d34e0225a",
   "metadata": {},
   "outputs": [],
   "source": [
    "# actural vaccination rate by prefectures\n",
    "with open('V_data/Beta_act.pkl', 'rb') as f:\n",
    "    beta_a = pickle.load(f)\n",
    "#actural transportation rate in country wide range from docomo data\n",
    "with open('V_data/Tsp_rate.pkl', 'rb') as f:\n",
    "    delta_a = pickle.load(f)\n",
    "# actural vaccination data in Japan\n",
    "with open('V_data/C_Beta_act.pkl', 'rb') as f:\n",
    "    C_beta = pickle.load(f)"
   ]
  },
  {
   "cell_type": "code",
   "execution_count": 11,
   "id": "23ae7447-fc87-465a-866a-10a286d97882",
   "metadata": {},
   "outputs": [
    {
     "data": {
      "image/png": "[encoded data removed]",
      "text/plain": [
       "<Figure size 1400x400 with 2 Axes>"
      ]
     },
     "metadata": {},
     "output_type": "display_data"
    }
   ],
   "source": [
    "# calculate the maximum to-date vaccination rate \n",
    "beta_c_max = [max(C_beta[:t]) for t in range(1,len(C_beta)+1)] # c denotes for country\n",
    "\n",
    "plt.figure(figsize=(14,4))\n",
    "plt.subplot(1,2,1)\n",
    "plt.plot(C_beta)\n",
    "plt.plot(beta_c_max, linestyle='--')\n",
    "plt.title('(a) Overall vaccination rate')\n",
    "\n",
    "plt.subplot(1,2,2)\n",
    "plt.plot(delta_a)\n",
    "plt.title('(b) Transport rate')\n",
    "plt.show()"
   ]
  },
  {
   "cell_type": "markdown",
   "id": "f7c9e723-8b65-47a5-b803-a9282cc7c9e2",
   "metadata": {
    "tags": []
   },
   "source": [
    "### Parameters"
   ]
  },
  {
   "cell_type": "code",
   "execution_count": 12,
   "id": "f422f486-8829-4e19-96b3-2b2ff86d163f",
   "metadata": {},
   "outputs": [],
   "source": [
    "Z = {0: list(range(1, 48))}"
   ]
  },
  {
   "cell_type": "code",
   "execution_count": 13,
   "id": "18ca1547-6a41-4c0a-a30e-58b704351293",
   "metadata": {},
   "outputs": [],
   "source": [
    "\n",
    "#p_a = 0.0025          # probability of asymptomatic patients\n",
    "p_t = 1\n",
    "v = 1/7               # infection period\n",
    "xi = 1/1.1            # latent period\n",
    "tau = 3               # return rate of daily commuters\n",
    "#r = 1                # ratio of infectiousness of asymptomatic person\n",
    "eta = 3               # coefficient to change the daily contact\n",
    "t_s = 1.8             # period of stay of tourists\n",
    "gamma_s = 0.007       # infection rate of unvaccinated individuals\n",
    "gamma_v =0.0002       # infection rate of vaccinated individuals\n",
    "t_f = {(0,0): 0.5}\n",
    "T = 180\n"
   ]
  },
  {
   "cell_type": "code",
   "execution_count": 15,
   "id": "30409da8-2ed6-4eda-86c1-173c6c337600",
   "metadata": {},
   "outputs": [],
   "source": [
    "from Adjoint_system import *\n",
    "from State_system import *"
   ]
  },
  {
   "cell_type": "code",
   "execution_count": 14,
   "id": "e8cba4b9-4d10-452b-8a45-8dec55509adb",
   "metadata": {},
   "outputs": [],
   "source": [
    "c_b_hat = 100000\n",
    "#c_b = {j:1500000+(N_p[j]/1000)**0.5*c_b_hat for j in N_p}\n",
    "#print(c_b)\n",
    "\n",
    "beta_max = beta_c_max\n",
    "del_min = 0.5\n",
    "beta_min = 0.001\n",
    "c_i = {j:2 for j in N_0} # infection cost\n",
    "c_v = 0.0413 # purchase cost\n",
    "c_d = 500260 # transport control loss"
   ]
  },
  {
   "cell_type": "code",
   "execution_count": 15,
   "id": "a0682c28-8606-4ebc-800c-e4cbad6f4261",
   "metadata": {},
   "outputs": [],
   "source": [
    "V_sum = sum(Vac_cnt[0])"
   ]
  },
  {
   "cell_type": "code",
   "execution_count": 16,
   "id": "fd294990-7a40-442d-acec-92fd3e298cce",
   "metadata": {},
   "outputs": [
    {
     "name": "stdout",
     "output_type": "stream",
     "text": [
      "{1: 22165534.33403992, 2: 4587892.551386056, 3: 4835606.823534076, 4: 8400318.759694947, 5: 3477429.531214999, 6: 4612923.375044096, 7: 7307381.335894105, 8: 8381411.747123657, 9: 5962222.933597219, 10: 6546785.864731077, 11: 19791837.413629305, 12: 17522125.176550966, 13: 36087346.93145529, 14: 24353099.92913127, 15: 8343921.718545619, 16: 3223131.226584779, 17: 4761131.753162852, 18: 2983591.539598895, 19: 2778546.0472881785, 20: 7491575.423913272, 21: 7157482.362883456, 22: 9441328.89473051, 23: 25765074.252924085, 24: 6559460.799366409, 25: 4482526.408181289, 26: 11801787.41583872, 27: 34494359.813429266, 28: 20529126.07850707, 29: 4908912.280379709, 30: 4596429.9620830985, 31: 2920272.642761536, 32: 3103524.4881142857, 33: 10319098.189024588, 34: 11931006.205919672, 35: 6489200.063694972, 36: 3381374.8277512463, 37: 4290820.565737481, 38: 5938956.018232653, 39: 3801534.084953701, 40: 20754032.491190497, 41: 4351676.598183717, 42: 5658634.091427798, 43: 7148924.064440193, 44: 5557934.329414704, 45: 5031601.486923315, 46: 7535006.456487295, 47: 6551101.010333712}\n"
     ]
    }
   ],
   "source": [
    "# Japanese government cost on vaccination, convert to K dollars for half year\n",
    "V_c =1.2954*1000000000000/120/1000/2\n",
    "T_p = sum(N_p[j] for j in N_p)\n",
    "C_pre = {j: V_c*N_p[j]/T_p/sum(beta_a[j][t]**2 for t in range(len(beta_a[j]))) for j in N_p}\n",
    "print(C_pre)"
   ]
  },
  {
   "cell_type": "code",
   "execution_count": 17,
   "id": "4e9f3eca-89c3-4d79-8146-90d3308a47dc",
   "metadata": {},
   "outputs": [],
   "source": [
    "c_b = C_pre"
   ]
  },
  {
   "cell_type": "markdown",
   "id": "ed64fbd5-2571-4930-9143-88314bf26c5a",
   "metadata": {
    "tags": []
   },
   "source": [
    "### Optimize both $\\delta$ and $\\beta$"
   ]
  },
  {
   "cell_type": "code",
   "execution_count": 18,
   "id": "8dc775c5-7b02-48cd-bd1f-78627a9aa689",
   "metadata": {
    "tags": []
   },
   "outputs": [
    {
     "name": "stdout",
     "output_type": "stream",
     "text": [
      "round 0 : 57059096.485943526 0.9942940903514057\n",
      "round 1 : 45372226.43618317 0.2048204540469618\n",
      "round 2 : 42498756.45377799 0.06333103327972596\n",
      "round 3 : 41249710.281343736 0.029390181658438142\n",
      "round 4 : 40573348.99166755 0.016396752487788782\n",
      "round 5 : 40162289.02364914 0.010131280218027445\n",
      "round 6 : 39892618.042409755 0.006714532159274911\n",
      "round 7 : 39705985.24776688 0.004678379204003713\n",
      "round 8 : 39571569.58896795 0.0033852744859540476\n",
      "round 9 : 39471846.744861364 0.0025200628921827313\n",
      "round 10 : 39395957.06708563 0.001922628000312979\n",
      "round 11 : 39337008.142466076 0.0014963191405446493\n",
      "round 12 : 39290443.6730608 0.0011837318495762801\n",
      "round 13 : 39253121.64591353 0.000949900883223172\n",
      "round 14 : 39222831.494891204 0.0007716622207924667\n",
      "round 15 : 39197980.471656896 0.0006335856511925873\n",
      "round 16 : 39177412.43354773 0.0005247218826500681\n",
      "round 17 : 39160258.14152954 0.0004378617921050028\n",
      "round 18 : 39145841.203415774 0.00036815227472861665\n",
      "round 19 : 39133641.36960061 0.00031165082777938455\n",
      "round 20 : 39123253.485161655 0.00026544640558350143\n",
      "round 21 : 39114358.50115183 0.00022735798323108046\n",
      "round 22 : 39106702.62002546 0.00019573070912414701\n",
      "round 23 : 39100082.10499415 0.00016929361433620853\n",
      "round 24 : 39094332.04469353 0.00014706005693742444\n",
      "round 25 : 39089317.932826035 0.0001282567473403212\n",
      "round 26 : 39084929.29256025 0.00011227211161184548\n",
      "round 27 : 39081074.79757626 9.861844587549802e-05\n",
      "round 28 : 39077678.50077908 8.690387392817477e-05\n",
      "round 29 : 39074676.893492706 7.681129999345914e-05\n",
      "round 30 : 39072016.59363884 6.808245301989471e-05\n",
      "round 31 : 39069652.515456125 6.050566079809363e-05\n",
      "round 32 : 39067546.40739698 5.3906495797788955e-05\n",
      "round 33 : 39065665.67961375 4.814041208579287e-05\n",
      "round 34 : 39063982.45569401 4.308704051119605e-05\n",
      "round 35 : 39062472.80183194 3.864567223237549e-05\n",
      "round 36 : 39061116.096787095 3.47316733307173e-05\n",
      "round 37 : 39059894.51423758 3.1273621226938405e-05\n",
      "round 38 : 39058792.595408894 2.8211003700660416e-05\n",
      "round 39 : 39057796.894593164 2.54923603513242e-05\n",
      "round 40 : 39056895.68384711 2.307377316978387e-05\n",
      "round 41 : 39056078.70597018 2.0917634712629212e-05\n",
      "round 42 : 39055336.96705054 1.8991638285800677e-05\n",
      "round 43 : 39054662.5615944 1.7267946163404172e-05\n",
      "round 44 : 39054048.52459717 1.5722501667001803e-05\n",
      "round 45 : 39053488.70597555 1.43344580848756e-05\n",
      "round 46 : 39052977.66364341 1.3085702431930151e-05\n",
      "round 47 : 39052510.57217477 1.1960457219489136e-05\n",
      "round 48 : 39052083.144558 1.0944945933375702e-05\n",
      "round 49 : 39051691.56496967 1.0027111406113292e-05\n",
      "round 50 : 39051332.43086515 9.19637767585935e-06\n",
      "round 51 : 39051002.70295818 8.443448313982792e-06\n",
      "round 52 : 39050699.661918096 7.760134672862067e-06\n",
      "round 53 : 39050420.87078019 7.139209804627482e-06\n",
      "round 54 : 39050164.14224985 6.574283314113933e-06\n",
      "round 55 : 39049927.5101971 6.059694189438097e-06\n",
      "round 56 : 39049709.20475089 5.590418731455208e-06\n",
      "round 57 : 39049507.63049558 5.16199120083268e-06\n",
      "round 58 : 39049321.34734324 4.77043536879105e-06\n",
      "round 59 : 39049149.05372491 4.412205190553e-06\n",
      "round 60 : 39048989.57178892 4.08413345361167e-06\n",
      "round 61 : 39048841.83434398 3.7833871392004767e-06\n",
      "round 62 : 39048704.873324916 3.507428456970182e-06\n",
      "round 63 : 39048577.80958177 3.253980984938478e-06\n",
      "round 64 : 39048459.843829185 3.020999975004873e-06\n",
      "round 65 : 39048350.24861102 2.806646372354382e-06\n",
      "round 66 : 39048248.36115292 2.609264090601092e-06\n",
      "round 67 : 39048153.577001765 2.4273598722054885e-06\n",
      "round 68 : 39048065.34434819 2.2595858060013852e-06\n",
      "round 69 : 39047983.15896059 2.1047236752750947e-06\n",
      "round 70 : 39047906.559655495 1.9616712284847083e-06\n",
      "round 71 : 39047835.124236636 1.8294301834078768e-06\n",
      "round 72 : 39047768.46586029 1.7070953135164732e-06\n",
      "round 73 : 39047706.22977119 1.5938449634410548e-06\n",
      "round 74 : 39047648.09036641 1.488932651742689e-06\n",
      "round 75 : 39047593.74855721 1.3916794443675387e-06\n",
      "round 76 : 39047542.929391176 1.301467290448283e-06\n",
      "round 77 : 39047495.379908405 1.217733030122967e-06\n",
      "round 78 : 39047450.86720427 1.1399631064913603e-06\n",
      "round 79 : 39047409.17668374 1.067688661014357e-06\n",
      "round 80 : 39047370.110478505 1.0004813650136608e-06\n",
      "round 81 : 39047333.48601288 9.379496114177363e-07\n"
     ]
    }
   ],
   "source": [
    "### optimize both delta and beta\n",
    "\n",
    "beta_b = beta_a # optimize both\n",
    "delta_b = delta_a # optimize both\n",
    "n = 0\n",
    "l_cost = 1e10\n",
    "T = 180\n",
    "tol = [10]\n",
    "cost_sum = {}\n",
    "#R_inf = {}\n",
    "params = {'p_t':p_t, 'v':v, 'xi':xi, 'tau':tau, 'eta':eta, 't_s':t_s, \n",
    "          'gamma_s':gamma_s, 'gamma_v':gamma_v,  \n",
    "          'c_v':c_v, 'c_i':c_i , 'c_b':c_b, 'c_d':c_d, 't_f':t_f, 'T':T}\n",
    "while tol[-1] >= 1e-6: \n",
    "    s_z = 0.5/(n+1)**0.5\n",
    "    b_star = beta_b\n",
    "    d_star = delta_b\n",
    "    Vac_res = State_solution(N_p, N_0, sigma, X, kpa, Z, d_star, b_star, params)\n",
    "    R_inf, cost_sum[n], L_s, L_v = Vac_res.get_res()\n",
    "    Adj_sys = Adjoint_solution(L_s, L_v, X,kpa,  N_p, sigma, R_inf, beta_max, beta_min, del_min, b_star, d_star, params)\n",
    "    beta_new = Adj_sys.get_beta()\n",
    "    delta_new = Adj_sys.get_delta()\n",
    "    beta_b = {j: [(1-s_z)*b_star[j][t] + s_z*beta_new[j][t] for t in range(len(beta_new[j]))] for j in beta_new}\n",
    "    delta_b = [(1-s_z)*d_star[i] + s_z*delta_new[i] for i in range(len(delta_new))]\n",
    "    s_cost = cost_sum[n]\n",
    "    tol.append(abs(l_cost-s_cost)/l_cost)\n",
    "    l_cost = s_cost\n",
    "    print('round', n, ':', s_cost, tol[-1])\n",
    "    n += 1"
   ]
  },
  {
   "cell_type": "code",
   "execution_count": 153,
   "id": "c1ae2fa6-cf77-4f79-b8ba-3833d9c4a1ac",
   "metadata": {
    "tags": []
   },
   "outputs": [
    {
     "name": "stdout",
     "output_type": "stream",
     "text": [
      "round 0 : 57059096.485943526 0.9942940903514057\n",
      "round 1 : 50919848.437556155 0.10759455418120353\n",
      "round 2 : 49223774.9405647 0.033308690992499286\n",
      "round 3 : 48426543.28374649 0.016196069029261354\n",
      "round 4 : 47969167.76971 0.009444727684909972\n",
      "round 5 : 47676726.34611855 0.006096445637652092\n",
      "round 6 : 47476402.211957894 0.004201717473350843\n",
      "round 7 : 47332448.34783563 0.003032114006440159\n",
      "round 8 : 47225285.74083919 0.0022640410698581497\n",
      "round 9 : 47143316.74444779 0.001735701438446058\n",
      "round 10 : 47079252.346568406 0.001358928524835485\n",
      "round 11 : 47028294.51373476 0.0010823840714063939\n",
      "round 12 : 46987165.22385498 0.0008745647764829023\n",
      "round 13 : 46953555.71212941 0.0007152913261622234\n",
      "round 14 : 46925797.898073174 0.0005911759745399209\n",
      "round 15 : 46902660.33654878 0.0004930669815065889\n",
      "round 16 : 46883216.935748555 0.0004145479309854178\n",
      "round 17 : 46866759.97290304 0.00035102034205684515\n",
      "round 18 : 46852740.93161416 0.00029912546327051165\n",
      "round 19 : 46840729.35774922 0.0002563686483672068\n",
      "round 20 : 46830383.70560005 0.00022086872452721696\n",
      "round 21 : 46821430.272495754 0.00019118854888281307\n",
      "round 22 : 46813647.75574417 0.00016621698026510445\n",
      "round 23 : 46806855.767039254 0.00014508565408853378\n",
      "round 24 : 46800906.18060983 0.00012710929482287936\n",
      "round 25 : 46795676.54104812 0.00011174227143233059\n",
      "round 26 : 46791064.98556829 9.854661414670199e-05\n",
      "round 27 : 46786986.29373656 8.716817693694921e-05\n",
      "round 28 : 46783368.78981213 7.731859243333433e-05\n",
      "round 29 : 46780151.89484432 6.876150758322159e-05\n",
      "round 30 : 46777284.174162894 6.13020814441811e-05\n",
      "round 31 : 46774721.77127874 5.477878695597375e-05\n",
      "round 32 : 46772427.140178956 4.905707640556967e-05\n",
      "round 33 : 46770368.01681507 4.402429999449191e-05\n",
      "round 34 : 46768516.57881537 3.958570518474225e-05\n",
      "round 35 : 46766848.75363925 3.56612802398628e-05\n",
      "round 36 : 46765343.64792185 3.218317585020315e-05\n",
      "round 37 : 46763983.073795624 2.909364114742587e-05\n",
      "round 38 : 46762751.15396577 2.634334692810181e-05\n",
      "round 39 : 46761633.99113366 2.3890015119787875e-05\n",
      "round 40 : 46760619.3901729 2.169729485829525e-05\n",
      "round 41 : 46759696.62376033 1.9733836390648816e-05\n",
      "round 42 : 46758856.23395302 1.7972524802036396e-05\n",
      "round 43 : 46758089.86362988 1.6389843226905427e-05\n",
      "round 44 : 46757390.11283092 1.4965341847718442e-05\n",
      "round 45 : 46756750.415943444 1.3681193196082389e-05\n",
      "round 46 : 46756164.93639854 1.2521818554368929e-05\n",
      "round 47 : 46755628.47612325 1.147357307901819e-05\n",
      "round 48 : 46755136.39747858 1.0524479313155558e-05\n",
      "round 49 : 46754684.55577721 9.66400135232682e-06\n",
      "round 50 : 46754269.24081311 8.882852446694573e-06\n",
      "round 51 : 46753887.12606994 8.172831045600285e-06\n",
      "round 52 : 46753535.224508844 7.52668029820542e-06\n",
      "round 53 : 46753210.84998721 6.937967793832865e-06\n",
      "round 54 : 46752911.58353192 6.4009818757791905e-06\n",
      "round 55 : 46752635.24379081 5.910642391053536e-06\n",
      "round 56 : 46752379.86109041 5.462423648941418e-06\n",
      "round 57 : 46752143.65462611 5.0522874985162395e-06\n",
      "round 58 : 46751925.012361735 4.676625439654379e-06\n",
      "round 59 : 46751722.47328802 4.332208217299505e-06\n",
      "round 60 : 46751534.71174104 4.016141802937721e-06\n",
      "round 61 : 46751360.52351139 3.7258291246322213e-06\n",
      "round 62 : 46751198.81352397 3.4589365016562254e-06\n",
      "round 63 : 46751048.58489482 3.213364212299923e-06\n",
      "round 64 : 46750908.92919538 2.987220686307115e-06\n",
      "round 65 : 46750779.017776795 2.7787998471585065e-06\n",
      "round 66 : 46750658.09402917 2.586561126082966e-06\n",
      "round 67 : 46750545.46647067 2.4091117235836097e-06\n",
      "round 68 : 46750440.50255821 2.2451911826346078e-06\n",
      "round 69 : 46750342.62314902 2.093657474333018e-06\n",
      "round 70 : 46750251.29753039 1.9534748519022993e-06\n",
      "round 71 : 46750166.038958676 1.823702960900804e-06\n",
      "round 72 : 46750086.40064646 1.7034872592058226e-06\n",
      "round 73 : 46750011.972154476 1.592050362205508e-06\n",
      "round 74 : 46749942.37613645 1.4886844962786776e-06\n",
      "round 75 : 46749877.26540747 1.3927445825547487e-06\n",
      "round 76 : 46749816.32029111 1.3036422751972029e-06\n",
      "round 77 : 46749759.24622938 1.22084034166016e-06\n",
      "round 78 : 46749705.77161136 1.1438479872382768e-06\n",
      "round 79 : 46749655.64581324 1.0722163336380497e-06\n",
      "round 80 : 46749608.63741941 1.0055345474135274e-06\n",
      "round 81 : 46749564.53260715 9.434263417916488e-07\n"
     ]
    }
   ],
   "source": [
    "### optimize only beta OV\n",
    "\n",
    "beta_o = beta_a \n",
    "delta = delta_a # delta does not change in each iteration\n",
    "n = 0\n",
    "l_cost = 1e10\n",
    "T = 180\n",
    "tol = [10]\n",
    "cost_b = {}\n",
    "#R_inf = {}\n",
    "params = {'p_t':p_t, 'v':v, 'xi':xi, 'tau':tau, 'eta':eta, 't_s':t_s, \n",
    "          'gamma_s':gamma_s, 'gamma_v':gamma_v,  \n",
    "          'c_v':c_v, 'c_i':c_i , 'c_b':c_b, 'c_d':c_d, 't_f':t_f, 'T':T}\n",
    "while tol[-1] >= 1e-6: \n",
    "    s_z = 0.5/(n+1)**0.5\n",
    "    b_star = beta_o\n",
    "    d_star = delta\n",
    "    Vac_res = State_solution(N_p, N_0, sigma, X, kpa, Z, d_star, b_star, params)\n",
    "    R_inf_b, cost_b[n], L_s, L_v = Vac_res.get_res()\n",
    "    Adj_sys = Adjoint_solution(L_s, L_v, X,kpa,  N_p, sigma, R_inf_b, beta_max, beta_min, del_min, b_star, d_star, params)\n",
    "    beta_new = Adj_sys.get_beta()\n",
    "    #delta_new = Adj_sys.get_delta()\n",
    "    beta_o = {j: [(1-s_z)*b_star[j][t] + s_z*beta_new[j][t] for t in range(len(beta_new[j]))] for j in beta_new}\n",
    "    #delta = [(1-s_z)*d_star[i] + s_z*delta_new[i] for i in range(len(delta_new))]\n",
    "    s_cost = cost_b[n]\n",
    "    tol.append(abs(l_cost-s_cost)/l_cost)\n",
    "    l_cost = s_cost\n",
    "    print('round', n, ':', s_cost, tol[-1])\n",
    "    n += 1"
   ]
  },
  {
   "cell_type": "code",
   "execution_count": 154,
   "id": "c16f4426-e91c-4928-8cee-7e2695d94040",
   "metadata": {
    "tags": []
   },
   "outputs": [
    {
     "name": "stdout",
     "output_type": "stream",
     "text": [
      "round 0 : 57059096.485943526 0.9942940903514057\n",
      "round 1 : 50809526.13690633 0.10952802855153465\n",
      "round 2 : 49240239.2595796 0.03088568220648799\n",
      "round 3 : 48541474.357209556 0.014190932312216572\n",
      "round 4 : 48159120.2582192 0.007876853846190805\n",
      "round 5 : 47924914.6597185 0.004863161894256727\n",
      "round 6 : 47770112.96647338 0.0032300880313352576\n",
      "round 7 : 47662210.50907244 0.002258785895622014\n",
      "round 8 : 47583991.630367406 0.0016411089177272486\n",
      "round 9 : 47525576.1416017 0.0012276290148056682\n",
      "round 10 : 47480893.689048015 0.0009401769779823684\n",
      "round 11 : 47446037.45967699 0.0007341106424680908\n",
      "round 12 : 47418398.340710744 0.0005825379830662117\n",
      "round 13 : 47396176.765060276 0.00046862771472798323\n",
      "round 14 : 47378097.57491433 0.0003814482808510989\n",
      "round 15 : 47363236.25151318 0.00031367497138623784\n",
      "round 16 : 47350909.149904996 0.00026026729978345024\n",
      "round 17 : 47340602.00196681 0.00021767581918129064\n",
      "round 18 : 47331922.09041056 0.0001833502572673396\n",
      "round 19 : 47324565.50338408 0.00015542548668158362\n",
      "round 20 : 47318294.249039866 0.00013251583564499993\n",
      "round 21 : 47312919.96630488 0.00011357727112261065\n",
      "round 22 : 47308292.13956807 9.781317111924396e-05\n",
      "round 23 : 47304289.44558829 8.460871865694751e-05\n",
      "round 24 : 47300813.31500626 7.348446880331122e-05\n",
      "round 25 : 47297783.08336064 6.406299243611553e-05\n",
      "round 26 : 47295132.29860985 5.6044587673749766e-05\n",
      "round 27 : 47292805.880723804 4.918937262634396e-05\n",
      "round 28 : 47290757.916267484 4.3303932134729696e-05\n",
      "round 29 : 47288949.931246676 3.823125491052765e-05\n",
      "round 30 : 47287349.52768853 3.384307666948214e-05\n",
      "round 31 : 47285929.29938158 3.0034001083630026e-05\n",
      "round 32 : 47284665.963665314 2.6716948043125e-05\n",
      "round 33 : 47283539.66175023 2.3819601812399045e-05\n",
      "round 34 : 47282533.391458645 2.1281619328422804e-05\n",
      "round 35 : 47281632.544727646 1.9052420976291895e-05\n",
      "round 36 : 47280824.528540276 1.708943079758199e-05\n",
      "round 37 : 47280098.452678904 1.5356666653175012e-05\n",
      "round 38 : 47279444.87131401 1.3823604143857088e-05\n",
      "round 39 : 47278855.56820456 1.2464256106561817e-05\n",
      "round 40 : 47278323.37739553 1.1256423249471873e-05\n",
      "round 41 : 47277842.03295284 1.0181081060195065e-05\n",
      "round 42 : 47277406.04255825 9.221875953664458e-06\n",
      "round 43 : 47277010.58079823 8.36470934267753e-06\n",
      "round 44 : 47276651.39876591 7.5973930650821885e-06\n",
      "round 45 : 47276324.74724204 6.909362533114733e-06\n",
      "round 46 : 47276027.31120057 6.291437480907267e-06\n",
      "round 47 : 47275756.15381922 5.735621133378728e-06\n",
      "round 48 : 47275508.66846962 5.23493159560079e-06\n",
      "round 49 : 47275282.537443094 4.783259512120145e-06\n",
      "round 50 : 47275075.69637251 4.375247687227041e-06\n",
      "round 51 : 47274886.30349423 4.00618878953212e-06\n",
      "round 52 : 47274712.71301798 3.671938524351523e-06\n",
      "round 53 : 47274553.452016 3.368841243756279e-06\n",
      "round 54 : 47274407.200306155 3.093666659317868e-06\n",
      "round 55 : 47274272.77292261 2.843555139094167e-06\n",
      "round 56 : 47274149.10479319 2.61597105926512e-06\n",
      "round 57 : 47274035.23733119 2.408662327254786e-06\n",
      "round 58 : 47273930.30667284 2.2196255898426757e-06\n",
      "round 59 : 47273833.533345036 2.0470759925675582e-06\n",
      "round 60 : 47273744.21316821 1.8894210633864612e-06\n",
      "round 61 : 47273661.709237225 1.7452379192538323e-06\n",
      "round 62 : 47273585.44483955 1.6132534463351474e-06\n",
      "round 63 : 47273514.89718963 1.4923270417536692e-06\n",
      "round 64 : 47273449.59187931 1.381435471127127e-06\n",
      "round 65 : 47273389.09795299 1.2796596575615973e-06\n",
      "round 66 : 47273333.02353182 1.1861730720984493e-06\n",
      "round 67 : 47273281.01192077 1.1002315199251223e-06\n",
      "round 68 : 47273232.73813849 1.021164202055166e-06\n",
      "round 69 : 47273187.90582578 9.483657053648877e-07\n"
     ]
    }
   ],
   "source": [
    "### optimize only delta OT\n",
    "\n",
    "beta = beta_a # beta does not change in each iteration\n",
    "delta_o = delta_a\n",
    "n = 0\n",
    "l_cost = 1e10\n",
    "T = 180\n",
    "tol = [10]\n",
    "cost_d = {}\n",
    "#R_inf = {}\n",
    "params = {'p_t':p_t, 'v':v, 'xi':xi, 'tau':tau, 'eta':eta, 't_s':t_s, \n",
    "          'gamma_s':gamma_s, 'gamma_v':gamma_v,  \n",
    "          'c_v':c_v, 'c_i':c_i , 'c_b':c_b, 'c_d':c_d, 't_f':t_f, 'T':T}\n",
    "while tol[-1] >= 1e-6: \n",
    "    s_z = 0.5/(n+1)**0.5\n",
    "    b_star = beta\n",
    "    d_star = delta_o\n",
    "    Vac_res = State_solution(N_p, N_0, sigma, X, kpa, Z, d_star, b_star, params)\n",
    "    R_inf_d, cost_d[n], L_s, L_v = Vac_res.get_res()\n",
    "    Adj_sys = Adjoint_solution(L_s, L_v, X,kpa,  N_p, sigma, R_inf_d, beta_max, beta_min, del_min, b_star, d_star, params)\n",
    "    #beta_new = Adj_sys.get_beta()\n",
    "    delta_new = Adj_sys.get_delta()\n",
    "    #beta = {j: [(1-s_z)*b_star[j][t] + s_z*beta_new[j][t] for t in range(len(beta_new[j]))] for j in beta_new}\n",
    "    delta_o = [(1-s_z)*d_star[i] + s_z*delta_new[i] for i in range(len(delta_new))]\n",
    "    s_cost = cost_d[n]\n",
    "    tol.append(abs(l_cost-s_cost)/l_cost)\n",
    "    l_cost = s_cost\n",
    "    print('round', n, ':', s_cost, tol[-1])\n",
    "    n += 1"
   ]
  },
  {
   "cell_type": "markdown",
   "id": "3767e2ed-6fcb-45a0-8056-8bf07da9e170",
   "metadata": {
    "tags": []
   },
   "source": [
    "### Results data storage"
   ]
  },
  {
   "cell_type": "code",
   "execution_count": 19,
   "id": "654cc1cf-3ed8-4709-9b2f-a74bba0f8108",
   "metadata": {
    "tags": []
   },
   "outputs": [],
   "source": [
    "### OVT\n",
    "# cost_sum   # total cost in each iteration \n",
    "# R_inf      # pandemic data in the optimal situation\n",
    "# beta_b     # optimal vaccination rate by prefecture\n",
    "# delta_b    # optimal transportation control\n",
    "\n",
    "### OV\n",
    "# beta_o     # optimal vaccination rate by prefecture\n",
    "# cost_b     # total cost in each iteration \n",
    "# R_inf_b    # pandemic data in the optimal situation\n",
    "\n",
    "### OT\n",
    "# delta_o    # optimal transportation control\n",
    "# cost_d     # total cost in each iteration \n",
    "# R_inf_d    # pandemic data in the optimal situation\n",
    "with open('Results/OVT_cost.pkl', 'wb') as file:\n",
    "    pickle.dump(cost_sum, file)"
   ]
  },
  {
   "cell_type": "code",
   "execution_count": 208,
   "id": "cc1bb1cd-bc46-43ec-b961-437a3eb94165",
   "metadata": {},
   "outputs": [],
   "source": [
    "with open('Results/OVT_cost.pkl', 'wb') as file:\n",
    "    pickle.dump(cost_sum, file)\n",
    "\n",
    "with open('Results/OVT_infection_data.pkl', 'wb') as file:\n",
    "    pickle.dump(R_inf, file)\n",
    "\n",
    "with open('Results/OVT_beta.pkl', 'wb') as file:\n",
    "    pickle.dump(beta_b, file)\n",
    "    \n",
    "with open('Results/OVT_delta.pkl', 'wb') as file:\n",
    "    pickle.dump(delta_b, file)"
   ]
  },
  {
   "cell_type": "code",
   "execution_count": 209,
   "id": "b0c42229-f770-41a9-8d9a-76ea16e2ede4",
   "metadata": {},
   "outputs": [],
   "source": [
    "with open('Results/OV_cost.pkl', 'wb') as file:\n",
    "    pickle.dump(cost_b, file)\n",
    "    \n",
    "with open('Results/OV_infection_data.pkl', 'wb') as file:\n",
    "    pickle.dump(R_inf_b, file)\n",
    "    \n",
    "with open('Results/OV_beta.pkl', 'wb') as file:\n",
    "    pickle.dump(beta_o, file)\n",
    "    "
   ]
  },
  {
   "cell_type": "code",
   "execution_count": 210,
   "id": "a3bbec55-b09c-4526-9df5-b4f32f8f2377",
   "metadata": {},
   "outputs": [],
   "source": [
    "with open('Results/OT_delta.pkl', 'wb') as file:\n",
    "    pickle.dump(delta_o, file)\n",
    "    \n",
    "with open('Results/OT_cost.pkl', 'wb') as file:\n",
    "    pickle.dump(cost_d, file)\n",
    "    \n",
    "with open('Results/OT_infection_data.pkl', 'wb') as file:\n",
    "    pickle.dump(R_inf_d, file)"
   ]
  },
  {
   "cell_type": "code",
   "execution_count": null,
   "id": "fb10f114-7612-458e-9367-842664df4d99",
   "metadata": {},
   "outputs": [],
   "source": []
  }
 ],
 "metadata": {
  "kernelspec": {
   "display_name": "Python 3 (ipykernel)",
   "language": "python",
   "name": "python3"
  },
  "language_info": {
   "codemirror_mode": {
    "name": "ipython",
    "version": 3
   },
   "file_extension": ".py",
   "mimetype": "text/x-python",
   "name": "python",
   "nbconvert_exporter": "python",
   "pygments_lexer": "ipython3",
   "version": "3.9.16"
  }
 },
 "nbformat": 4,
 "nbformat_minor": 5
}
